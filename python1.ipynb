{
 "cells": [
  {
   "cell_type": "markdown",
   "metadata": {
    "id": "xaBmKISuRfxI"
   },
   "source": [
    "# Task on List:\n",
    " You have a list of your favourite marvel super heros.\n",
    "```\n",
    "heros=['spider man','thor','hulk','iron man','captain america']\n",
    "```\n",
    "\n",
    "Using this find out,\n",
    "\n",
    "    1. Length of the list\n",
    "    2. Add 'black panther' at the end of this list\n",
    "    3. You realize that you need to add 'black panther' after 'hulk',\n",
    "       so remove it from the list first and then add it after 'hulk'\n",
    "    4. Now you don't like thor and hulk because they get angry easily :)\n",
    "       So you want to remove thor and hulk from list and replace them with doctor strange (because he is cool).\n",
    "       Do that with one line of code.\n",
    "    5. Sort the heros list in alphabetical order (Hint. Use dir() functions to list down all functions available in list)\n",
    "\n"
   ]
  },
  {
   "cell_type": "code",
   "execution_count": 15,
   "metadata": {},
   "outputs": [
    {
     "data": {
      "text/plain": [
       "5"
      ]
     },
     "execution_count": 15,
     "metadata": {},
     "output_type": "execute_result"
    }
   ],
   "source": [
    "heros=['spider man','thor','hulk','iron man','captain america']\n",
    "len(heros)\n"
   ]
  },
  {
   "cell_type": "code",
   "execution_count": 16,
   "metadata": {},
   "outputs": [
    {
     "data": {
      "text/plain": [
       "['spider man', 'thor', 'hulk', 'iron man', 'captain america', 'black panther']"
      ]
     },
     "execution_count": 16,
     "metadata": {},
     "output_type": "execute_result"
    }
   ],
   "source": [
    "heros.append(\"black panther\")\n",
    "heros"
   ]
  },
  {
   "cell_type": "code",
   "execution_count": 17,
   "metadata": {},
   "outputs": [
    {
     "data": {
      "text/plain": [
       "['spider man', 'thor', 'hulk', 'black panther', 'iron man', 'captain america']"
      ]
     },
     "execution_count": 17,
     "metadata": {},
     "output_type": "execute_result"
    }
   ],
   "source": [
    "heros.pop()\n",
    "heros.insert(3,\"black panther\")\n",
    "heros"
   ]
  },
  {
   "cell_type": "code",
   "execution_count": 18,
   "metadata": {},
   "outputs": [
    {
     "data": {
      "text/plain": [
       "['spider man',\n",
       " 'doctor strange',\n",
       " 'black panther',\n",
       " 'iron man',\n",
       " 'captain america']"
      ]
     },
     "execution_count": 18,
     "metadata": {},
     "output_type": "execute_result"
    }
   ],
   "source": [
    "heros[1:3]=[\"doctor strange\"]\n",
    "heros"
   ]
  },
  {
   "cell_type": "code",
   "execution_count": 22,
   "metadata": {},
   "outputs": [
    {
     "data": {
      "text/plain": [
       "['black panther',\n",
       " 'captain america',\n",
       " 'doctor strange',\n",
       " 'iron man',\n",
       " 'spider man']"
      ]
     },
     "execution_count": 22,
     "metadata": {},
     "output_type": "execute_result"
    }
   ],
   "source": [
    "heros.sort()\n",
    "heros"
   ]
  },
  {
   "cell_type": "markdown",
   "metadata": {
    "id": "BR7rqorHTEeJ"
   },
   "source": [
    "# Task on Variables:\n",
    "1. Create two variables. One to store your birth year and another one to store current year. Now calculate your age using these two variables\n",
    "2. Store your first, middle and last name in three different variables and then print your full name using these variables\n",
    "3. Answer which of these are invalid variable names: \n",
    "   _nation\n",
    "   1record\n",
    "   record1\n",
    "   record_one\n",
    "   record-one\n",
    "   record^one\n"
   ]
  },
  {
   "cell_type": "code",
   "execution_count": 24,
   "metadata": {},
   "outputs": [
    {
     "data": {
      "text/plain": [
       "21"
      ]
     },
     "execution_count": 24,
     "metadata": {},
     "output_type": "execute_result"
    }
   ],
   "source": [
    "birth_year=2003\n",
    "current_year=2024\n",
    "age=current_year-birth_year\n",
    "age"
   ]
  },
  {
   "cell_type": "code",
   "execution_count": 27,
   "metadata": {},
   "outputs": [
    {
     "name": "stdout",
     "output_type": "stream",
     "text": [
      "mahmoud farag ali\n"
     ]
    }
   ],
   "source": [
    "first=\"mahmoud\"\n",
    "mid=\"farag\"\n",
    "last=\"ali\"\n",
    "print(f\"{first} {mid} {last}\")"
   ]
  },
  {
   "cell_type": "code",
   "execution_count": 33,
   "metadata": {},
   "outputs": [
    {
     "name": "stdout",
     "output_type": "stream",
     "text": [
      "invalid variable names is 1record , record-one , record^one\n"
     ]
    }
   ],
   "source": [
    "print(\"invalid variable names is 1record , record-one , record^one\")"
   ]
  },
  {
   "cell_type": "markdown",
   "metadata": {
    "id": "rlTSk635UjwK"
   },
   "source": [
    "# Task on Numbers:\n",
    "\n",
    "1. You have a football field that is 92 meter long and 48.8 meter wide. Find out total\n",
    "area using python and print it.\n",
    "2. You bought 9 packets of potato chips from a store. Each packet costs 1.49 dollar\n",
    "and you gave shopkeeper 20 dollar. Find out using python, how many dollars is the shopkeeper going to give you back?\n",
    "3. You want to replace tiles in your bathroom which is exactly square and 5.5 feet\n",
    "is its length. If tiles cost 500 rs per square feet, how much will be the total\n",
    "cost to replace all tiles. Calculate and print the cost using python\n",
    "(Hint: Use power operator ** to find area of a square)"
   ]
  },
  {
   "cell_type": "code",
   "execution_count": 34,
   "metadata": {},
   "outputs": [
    {
     "name": "stdout",
     "output_type": "stream",
     "text": [
      "4489.599999999999\n"
     ]
    }
   ],
   "source": [
    "long=92\n",
    "wide=48.8\n",
    "print(long*wide)"
   ]
  },
  {
   "cell_type": "code",
   "execution_count": 35,
   "metadata": {},
   "outputs": [
    {
     "name": "stdout",
     "output_type": "stream",
     "text": [
      "6.59\n"
     ]
    }
   ],
   "source": [
    "num_of_packets=9\n",
    "price=1.49\n",
    "given=20 \n",
    "print(given-(num_of_packets*price))"
   ]
  },
  {
   "cell_type": "code",
   "execution_count": 36,
   "metadata": {},
   "outputs": [
    {
     "name": "stdout",
     "output_type": "stream",
     "text": [
      "15125.0\n"
     ]
    }
   ],
   "source": [
    "side_length = 5.5\n",
    "cost = 500\n",
    "area = side_length**2\n",
    "total_cost = area*cost\n",
    "print(total_cost)"
   ]
  },
  {
   "cell_type": "markdown",
   "metadata": {
    "id": "Si0IvvMfUo_t"
   },
   "source": [
    "# Task on String:\n",
    "1. Create 3 variables to store street, city and country, now create address variable to\n",
    "store entire address. Use two ways of creating this variable, one using + operator and the other using f-string.\n",
    "Now Print the address in such a way that the street, city and country prints in a separate line\n",
    "2. Create a variable to store the string \"Earth revolves around the sun\"\n",
    "    1. Print \"revolves\" using slice operator\n",
    "    2. Print \"sun\" using negative index\n",
    "3. Create two variables to store how many fruits and vegetables you eat in a day.\n",
    "Now Print \"I eat x veggies and y fruits daily\" where x and y presents vegetables and fruits that you eat everyday. Use python f string for this.\n",
    "4. I have a string variable called s='maine 200 banana khaye'. This of course is a\n",
    "wrong statement, the correct statement is 'maine 10 samosa khaye'.\n",
    "Replace incorrect words in original strong with new ones and print the new string.\n",
    "Also try to do this in one line."
   ]
  },
  {
   "cell_type": "code",
   "execution_count": 37,
   "metadata": {},
   "outputs": [
    {
     "name": "stdout",
     "output_type": "stream",
     "text": [
      "mohamed ibraheem\n",
      "cairo\n",
      "egypt\n",
      "mohamed ibraheem\n",
      "cairo\n",
      "egypt\n"
     ]
    }
   ],
   "source": [
    "street=\"mohamed ibraheem\"\n",
    "city=\"cairo\"\n",
    "country=\"egypt\"\n",
    "add1 = street + \"\\n\" + city + \"\\n\" + country\n",
    "add2 = f\"{street}\\n{city}\\n{country}\"\n",
    "print(add1)\n",
    "print(add2)"
   ]
  },
  {
   "cell_type": "code",
   "execution_count": 40,
   "metadata": {},
   "outputs": [
    {
     "name": "stdout",
     "output_type": "stream",
     "text": [
      "revolves\n",
      "sun\n"
     ]
    }
   ],
   "source": [
    "str = \"Earth revolves around the sun\"\n",
    "print(str[6:14])\n",
    "print(str[-3:])"
   ]
  },
  {
   "cell_type": "code",
   "execution_count": 42,
   "metadata": {},
   "outputs": [
    {
     "name": "stdout",
     "output_type": "stream",
     "text": [
      "i eat 5 fruits and 6 vegetables\n"
     ]
    }
   ],
   "source": [
    "fruits=5\n",
    "vegetables=6\n",
    "print(f\"i eat {fruits} fruits and {vegetables} vegetables\")"
   ]
  },
  {
   "cell_type": "code",
   "execution_count": 44,
   "metadata": {},
   "outputs": [
    {
     "name": "stdout",
     "output_type": "stream",
     "text": [
      "maine 10 samosa khaye\n"
     ]
    }
   ],
   "source": [
    "str='maine 200 banana khaye'\n",
    "str= s.replace('200', '10').replace('banana', 'samosa')\n",
    "print(str)"
   ]
  },
  {
   "cell_type": "code",
   "execution_count": null,
   "metadata": {},
   "outputs": [],
   "source": []
  }
 ],
 "metadata": {
  "colab": {
   "provenance": []
  },
  "kernelspec": {
   "display_name": "Python 3 (ipykernel)",
   "language": "python",
   "name": "python3"
  },
  "language_info": {
   "codemirror_mode": {
    "name": "ipython",
    "version": 3
   },
   "file_extension": ".py",
   "mimetype": "text/x-python",
   "name": "python",
   "nbconvert_exporter": "python",
   "pygments_lexer": "ipython3",
   "version": "3.11.5"
  }
 },
 "nbformat": 4,
 "nbformat_minor": 1
}
