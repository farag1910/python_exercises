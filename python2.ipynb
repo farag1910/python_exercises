{
 "cells": [
  {
   "cell_type": "markdown",
   "metadata": {
    "id": "W0cgShwtoe0x"
   },
   "source": [
    "# **Task on if condition**"
   ]
  },
  {
   "cell_type": "markdown",
   "metadata": {
    "id": "L6KMOjweozWx"
   },
   "source": [
    "1. Using following list of cities per country,\n",
    "    ```\n",
    "    india = [\"mumbai\", \"banglore\", \"chennai\", \"delhi\"]\n",
    "    pakistan = [\"lahore\",\"karachi\",\"islamabad\"]\n",
    "    bangladesh = [\"dhaka\", \"khulna\", \"rangpur\"]\n",
    "    ```\n",
    "    1. Write a program that asks user to enter a city name and it should tell which country the city belongs to\n",
    "    2. Write a program that asks user to enter two cities and it tells you if they both are in same country or not. For example if I enter mumbai and chennai, it will print \"Both cities are in India\" but if I enter mumbai and dhaka it should print \"They don't belong to same country\"\n",
    "2. Write a python program that can tell you if your sugar is normal or not. Normal fasting level sugar range is 80 to 100.\n",
    "    1. Ask user to enter his fasting sugar level\n",
    "    2. If it is below 80 to 100 range then print that sugar is low\n",
    "    3. If it is above 100 then print that it is high otherwise print that it is normal\n"
   ]
  },
  {
   "cell_type": "code",
   "execution_count": 1,
   "metadata": {},
   "outputs": [
    {
     "name": "stdout",
     "output_type": "stream",
     "text": [
      "enter your citymumbai\n",
      "your city in india\n"
     ]
    }
   ],
   "source": [
    "india = [\"mumbai\", \"banglore\", \"chennai\", \"delhi\"]\n",
    "pakistan = [\"lahore\",\"karachi\",\"islamabad\"]\n",
    "bangladesh = [\"dhaka\", \"khulna\", \"rangpur\"]\n",
    "city=input(\"enter your city\")\n",
    "if city in india:\n",
    "    print(\"your city in india\")\n",
    "elif city in pakistan:\n",
    "    print(\"your city in pakistan\")\n",
    "elif city in bangladesh:\n",
    "    print(\"your city in bangladesh\")\n",
    "else:\n",
    "    print(\"not found\")"
   ]
  },
  {
   "cell_type": "code",
   "execution_count": 2,
   "metadata": {},
   "outputs": [
    {
     "name": "stdout",
     "output_type": "stream",
     "text": [
      "enter first city mumbai\n",
      "enter second city banglore\n",
      "both cities are in same country\n"
     ]
    }
   ],
   "source": [
    "city1=input(\"enter first city \")\n",
    "city2=input(\"enter second city \")\n",
    "if (city1 in india and city2 in india) | (city1 in pakistan and city2 in pakistan) | (city1 in bangladesh and city2 in bangladesh):\n",
    "    print(\"both cities are in same country\")\n",
    "else:\n",
    "    print(\"both cities are not in same country\")"
   ]
  },
  {
   "cell_type": "code",
   "execution_count": 3,
   "metadata": {},
   "outputs": [
    {
     "name": "stdout",
     "output_type": "stream",
     "text": [
      "enter your suger level 90\n",
      "low\n"
     ]
    }
   ],
   "source": [
    "suger_level=input(\"enter your suger level \")\n",
    "suger_level=int(suger_level)\n",
    "if 100>=suger_level>80:\n",
    "    print(\"low\")\n",
    "elif suger_level>100 :\n",
    "    print(\"high\")\n",
    "else:\n",
    "    print(\"normal\")"
   ]
  },
  {
   "cell_type": "markdown",
   "metadata": {
    "id": "4Cfq5HqXo01w"
   },
   "source": [
    "# **Task on for loops**"
   ]
  },
  {
   "cell_type": "markdown",
   "metadata": {
    "id": "qDijpad9qFo_"
   },
   "source": [
    "1. After flipping a coin 10 times you got this result,\n",
    "```\n",
    "result = [\"heads\",\"tails\",\"tails\",\"heads\",\"tails\",\"heads\",\"heads\",\"tails\",\"tails\",\"tails\"]\n",
    "```\n",
    "Using for loop figure out how many times you got heads\n",
    "\n",
    "2. Print square of all numbers between 1 to 10 except even numbers\n",
    "3. Your monthly expense list (from Jan to May) looks like this,\n",
    "```\n",
    "expense_list = [2340, 2500, 2100, 3100, 2980]\n",
    "```\n",
    "Write a program that asks you to enter an expense amount and program\n",
    "should tell you in which month that expense occurred. If expense is not\n",
    "found then it should print that as well.\n",
    "\n",
    "4. Lets say you are running a 5 km race. Write a program that,\n",
    "   1. Upon completing each 1 km asks you \"are you tired?\"\n",
    "   2. If you reply \"yes\" then it should break and print \"you didn't finish the race\"\n",
    "   3. If you reply \"no\" then it should continue and ask \"are you tired\" on every km\n",
    "   4. If you finish all 5 km then it should print congratulations message\n"
   ]
  },
  {
   "cell_type": "code",
   "execution_count": 4,
   "metadata": {
    "id": "5uciA349qLUq"
   },
   "outputs": [
    {
     "name": "stdout",
     "output_type": "stream",
     "text": [
      "*\n",
      "**\n",
      "***\n",
      "****\n",
      "*****\n"
     ]
    }
   ],
   "source": [
    "# #5. Write a program that prints following shape\n",
    "# ```\n",
    "# *\n",
    "# **\n",
    "# ***\n",
    "# ****\n",
    "# *****\n",
    "# ```\n",
    "for i in range(1,6):\n",
    "    print(i*\"*\")   "
   ]
  },
  {
   "cell_type": "code",
   "execution_count": 5,
   "metadata": {},
   "outputs": [
    {
     "name": "stdout",
     "output_type": "stream",
     "text": [
      "4\n"
     ]
    }
   ],
   "source": [
    "result = [\"heads\",\"tails\",\"tails\",\"heads\",\"tails\",\"heads\",\"heads\",\"tails\",\"tails\",\"tails\"]\n",
    "c=0 \n",
    "for i in result:\n",
    "    if i==\"heads\":\n",
    "        c+=1\n",
    "print(c)        "
   ]
  },
  {
   "cell_type": "code",
   "execution_count": 6,
   "metadata": {},
   "outputs": [
    {
     "name": "stdout",
     "output_type": "stream",
     "text": [
      "1\n",
      "9\n",
      "25\n",
      "49\n",
      "81\n"
     ]
    }
   ],
   "source": [
    "for i in range(1,11):\n",
    "    if i%2==0:\n",
    "        continue\n",
    "    else:\n",
    "        print(i**2)"
   ]
  },
  {
   "cell_type": "code",
   "execution_count": 7,
   "metadata": {},
   "outputs": [
    {
     "name": "stdout",
     "output_type": "stream",
     "text": [
      "enter your expense 2500\n",
      "month is 2\n"
     ]
    }
   ],
   "source": [
    "expense_list = [2340, 2500, 2100, 3100, 2980]\n",
    "flag=0\n",
    "expense=int(input(\"enter your expense \"))\n",
    "for i in range(len(expense_list)):\n",
    "    if expense_list[i]==expense:\n",
    "        print(\"month is \"+ str(i+1))\n",
    "        flag=1 \n",
    "        break \n",
    "if flag==0:\n",
    "    print(\"not found\")\n",
    "        "
   ]
  },
  {
   "cell_type": "code",
   "execution_count": 8,
   "metadata": {},
   "outputs": [
    {
     "name": "stdout",
     "output_type": "stream",
     "text": [
      "are you tired , this is km 1 no\n",
      "are you tired , this is km 2 no\n",
      "are you tired , this is km 3 no\n",
      "are you tired , this is km 4 no\n",
      "are you tired , this is km 5 no\n",
      "Congratulations! You finished the 5 km race!\n"
     ]
    }
   ],
   "source": [
    "for i in range(1, 6):\n",
    "        response = input(f\"are you tired , this is km {i} \")\n",
    "        if response == \"yes\":\n",
    "            print(\"You didn't finish the race.\")\n",
    "            break\n",
    "        elif response == \"no\":\n",
    "            if i == 5:\n",
    "                print(\"Congratulations! You finished the 5 km race!\")\n",
    "        else:\n",
    "            print(\"Invalid response. Please answer with 'yes' or 'no'.\")\n",
    "            break"
   ]
  },
  {
   "cell_type": "markdown",
   "metadata": {
    "id": "iNJMcH97wu0B"
   },
   "source": [
    "# **Task on List Set Dict Comprehensions**"
   ]
  },
  {
   "cell_type": "markdown",
   "metadata": {
    "id": "1mCLeGEBw1gn"
   },
   "source": [
    "1. Create a Dictionary which contains the Binary values mapping with numbers found in the below integer and binary and save it in binary_dict. \n",
    "\n",
    "Example :\n",
    "```\n",
    "    integer = [0, 1, 2, 3, 4]\n",
    "    binary = [\"0\", \"1\", \"10\", \"11\", \"100\"]\n",
    "    binary_dict = {0:\"0\", 1:\"1\", 2:\"10\", 3: \"11\", 4:\"100\"}\n",
    "```\n",
    "\n",
    "2. Create a List which contains additive inverse of a given integer list. \n",
    "An additive inverse `a` for an integer `i` is a number such that:\n",
    "```\n",
    "a + i = 0\n",
    "```\n",
    "Example:\n",
    "```\n",
    "integer = [1, -1, 2, 3, 5, 0, -7]\n",
    "additive_inverse = [-1, 1, -2, -3, -5, 0, 7]\n",
    "```\n",
    "\n",
    "3. Create a set which only contains unique sqaures from a given a integer list.\n",
    "```\n",
    "integer = [1, -1, 2, -2, 3, -3]\n",
    "sq_set = {1, 4, 9}\n",
    "```\n"
   ]
  },
  {
   "cell_type": "code",
   "execution_count": 9,
   "metadata": {},
   "outputs": [
    {
     "name": "stdout",
     "output_type": "stream",
     "text": [
      "{0: '0', 1: '1', 2: '10', 3: '11', 4: '100'}\n"
     ]
    }
   ],
   "source": [
    "integer = [0, 1, 2, 3, 4]\n",
    "binary = [\"0\", \"1\", \"10\", \"11\", \"100\"]\n",
    "binary_dict = {}\n",
    "for i in range(len(integer)):\n",
    "    binary_dict[integer[i]] = binary[i]\n",
    "print(binary_dict)"
   ]
  },
  {
   "cell_type": "code",
   "execution_count": 10,
   "metadata": {},
   "outputs": [
    {
     "data": {
      "text/plain": [
       "[-1, 1, -2, -3, -5, 0, 7]"
      ]
     },
     "execution_count": 10,
     "metadata": {},
     "output_type": "execute_result"
    }
   ],
   "source": [
    "integer = [1, -1, 2, 3, 5, 0, -7]\n",
    "for i in range(len(integer)) :\n",
    "    integer[i]=-1*integer[i]\n",
    "integer    "
   ]
  },
  {
   "cell_type": "code",
   "execution_count": 11,
   "metadata": {},
   "outputs": [
    {
     "data": {
      "text/plain": [
       "{1, 4, 9}"
      ]
     },
     "execution_count": 11,
     "metadata": {},
     "output_type": "execute_result"
    }
   ],
   "source": [
    "integer = [1, -1, 2, -2, 3, -3]\n",
    "for i in range(len(integer)):\n",
    "    integer[i]=integer[i]*integer[i]\n",
    "sq_set=set(integer)\n",
    "sq_set"
   ]
  },
  {
   "cell_type": "markdown",
   "metadata": {
    "id": "PrOPDuIyqOyY"
   },
   "source": [
    "# **Task on Dict and Tuple**"
   ]
  },
  {
   "cell_type": "code",
   "execution_count": 12,
   "metadata": {
    "id": "EndcNKm8syaM"
   },
   "outputs": [
    {
     "ename": "SyntaxError",
     "evalue": "incomplete input (2650291727.py, line 1)",
     "output_type": "error",
     "traceback": [
      "\u001b[1;36m  Cell \u001b[1;32mIn[12], line 1\u001b[1;36m\u001b[0m\n\u001b[1;33m    ''' 1. We have following information on countries and their population (population is in crores),\u001b[0m\n\u001b[1;37m    ^\u001b[0m\n\u001b[1;31mSyntaxError\u001b[0m\u001b[1;31m:\u001b[0m incomplete input\n"
     ]
    }
   ],
   "source": [
    "''' 1. We have following information on countries and their population (population is in crores),\n",
    "\n",
    "    |Country|Population|\n",
    "    |-------|----------|\n",
    "    |China|143|\n",
    "    |India|136|\n",
    "    |USA|32|\n",
    "    |Pakistan|21|\n",
    "    1. Using above create a dictionary of countries and its population\n",
    "    2. Write a program that asks user for three type of inputs,\n",
    "         1. print: if user enter print then it should print all countries with their population in this format,\n",
    "            ```\n",
    "            china==>143\n",
    "            india==>136\n",
    "            usa==>32\n",
    "            pakistan==>21\n",
    "            ```\n",
    "        1. add: if user input add then it should further ask for a country name to add. If country already exist in our dataset then it should print that it exist and do nothing. If it doesn't then it asks for population and add that new country/population in our dictionary and print it\n",
    "        2. remove: when user inputs remove it should ask for a country to remove. If country exist in our dictionary then remove it and print new dictionary using format shown above in (a). Else print that country doesn't exist!\n",
    "        3. query: on this again ask user for which country he or she wants to query. When user inputs that country it will print population of that country.\n"
   ]
  },
  {
   "cell_type": "code",
   "execution_count": null,
   "metadata": {
    "id": "XHIgJY6utNMe"
   },
   "outputs": [],
   "source": [
    "'''2. You are given following list of stocks and their prices in last 3 days,\n",
    "\n",
    "    |Stock|Prices|\n",
    "    |-------|----------|\n",
    "    |info|[600,630,620]|\n",
    "    |ril|[1430,1490,1567]|\n",
    "    |mtl|[234,180,160]|\n",
    "\n",
    "    1. Write a program that asks user for operation. Value of operations could be,\n",
    "        1. print: When user enters print it should print following,\n",
    "            ```\n",
    "            info ==> [600, 630, 620] ==> avg:  616.67\n",
    "            ril ==> [1430, 1490, 1567] ==> avg:  1495.67\n",
    "            mtl ==> [234, 180, 160] ==> avg:  191.33\n",
    "            ```\n",
    "        2. add: When user enters 'add', it asks for stock ticker and price. If stock already exist in your list (like info, ril etc) then it will append the price to the list. Otherwise it will create new entry in your dictionary. For example entering 'tata' and 560 will add tata ==> [560] to the dictionary of stocks.\n",
    "\n",
    "3. Write circle_calc() function that takes radius of a circle as an input from user and then it calculates and returns area, circumference and diameter. You should get these values in your main program by calling circle_calc function and then print them'''"
   ]
  },
  {
   "cell_type": "code",
   "execution_count": 14,
   "metadata": {},
   "outputs": [
    {
     "name": "stdout",
     "output_type": "stream",
     "text": [
      "enter your operation(print/add/remove/query/exit) query\n",
      "Enter country name to query: india\n",
      "india has a population of 136 crores.\n"
     ]
    }
   ],
   "source": [
    "country_population={\n",
    "    \"china\":143,\n",
    "    \"india\":136,\n",
    "    \"usa\":32,\n",
    "    \"pakistan\":21}\n",
    "answer=input(\"enter your operation(print/add/remove/query/exit) \")\n",
    "if answer==\"print\":\n",
    "    for c,p in country_population.items():\n",
    "        print(f\"{c}==>{p}\")\n",
    "elif answer==\"add\":\n",
    "    country=input(\"enter country to add\")\n",
    "    if country in country_population:\n",
    "        print(f\"country {country} already exists\")\n",
    "    else :\n",
    "        pop=int(input(\"print country population \"))\n",
    "        country_population[country]=pop\n",
    "        print(f\"{country}==>{pop}\")\n",
    "elif answer==\"remove\":\n",
    "    country = input(\"Enter country name to remove: \")\n",
    "    if country in country_population:\n",
    "        del country_population[country]\n",
    "        print(f\"{country} removed\")\n",
    "        for c, p in country_population.items():\n",
    "            print(f\"{c.lower()}==>{p}\")\n",
    "    else:\n",
    "            print(f\"{country} doesn't exist!\")\n",
    "elif answer == \"query\":\n",
    "    country = input(\"Enter country name to query: \")\n",
    "    if country in country_population:\n",
    "        print(f\"{country} has a population of {country_population[country]} crores.\")\n",
    "    else:\n",
    "        print(f\"{country} doesn't exist!\")            "
   ]
  },
  {
   "cell_type": "code",
   "execution_count": 4,
   "metadata": {},
   "outputs": [
    {
     "name": "stdout",
     "output_type": "stream",
     "text": [
      "Enter command (add/print): print\n",
      "info ==> [600, 630, 620] ==> avg: 616.6666666666666\n",
      "ril ==> [1430, 1490, 1567] ==> avg: 1495.6666666666667\n",
      "mtl ==> [234, 180, 160] ==> avg: 191.33333333333334\n"
     ]
    }
   ],
   "source": [
    "stocks = {\n",
    "    \"info\": [600, 630, 620],\n",
    "    \"ril\": [1430, 1490, 1567],\n",
    "    \"mtl\": [234, 180, 160]\n",
    "}\n",
    "\n",
    "command = input(\"Enter command (add/print): \")\n",
    "if command == \"add\":\n",
    "    ticker = input(\"Enter stock ticker: \")\n",
    "    price = int(input(\"Enter stock price: \"))\n",
    "    if ticker in stocks:\n",
    "        stocks[ticker].append(price)\n",
    "    else:\n",
    "        stocks[ticker] = [price]\n",
    "elif command == \"print\":\n",
    "    for ticker, prices in stocks.items():\n",
    "        avg_price = sum(prices) / len(prices)\n",
    "        print(f\"{ticker} ==> {prices} ==> avg: {avg_price}\")"
   ]
  },
  {
   "cell_type": "code",
   "execution_count": 5,
   "metadata": {},
   "outputs": [
    {
     "name": "stdout",
     "output_type": "stream",
     "text": [
      "Enter the radius of the circle: 5\n",
      "Area: 78.53981633974483, Circumference: 31.41592653589793, Diameter: 10.0\n"
     ]
    }
   ],
   "source": [
    "import math\n",
    "def circle_calc(radius):\n",
    "    area = math.pi * radius ** 2\n",
    "    circumference = 2 * math.pi * radius\n",
    "    diameter = 2 * radius\n",
    "    return area, circumference, diameter\n",
    "\n",
    "radius = float(input(\"Enter the radius of the circle: \"))\n",
    "area, circumference, diameter = circle_calc(radius)\n",
    "print(f\"Area: {area}, Circumference: {circumference}, Diameter: {diameter}\")"
   ]
  },
  {
   "cell_type": "markdown",
   "metadata": {
    "id": "uklOASJZlEIj"
   },
   "source": [
    "# **Task on Functions**"
   ]
  },
  {
   "cell_type": "markdown",
   "metadata": {
    "id": "iMvZFpIhlIkl"
   },
   "source": [
    "1. Write a function called calculate_area that takes base and height as an input and returns and area of a triangle. Equation of an area of a triangle is,\n",
    "```\n",
    "area = (1/2)*base*height\n",
    "```\n",
    "\n",
    "2. Modify above function to take third parameter shape type. It can be either \"triangle\" or \"rectangle\". Based on shape type it will calculate area. Equation of rectangle's area is,\n",
    "```\n",
    "rectangle area=length*width\n",
    "```\n",
    "If no shape is supplied then it should take triangle as a default shape\n",
    "\n"
   ]
  },
  {
   "cell_type": "code",
   "execution_count": 6,
   "metadata": {},
   "outputs": [
    {
     "data": {
      "text/plain": [
       "7.5"
      ]
     },
     "execution_count": 6,
     "metadata": {},
     "output_type": "execute_result"
    }
   ],
   "source": [
    "def calculate_area(base,height):\n",
    "    return 0.5*base*height\n",
    "\n",
    "calculate_area(5,3)"
   ]
  },
  {
   "cell_type": "code",
   "execution_count": 7,
   "metadata": {},
   "outputs": [
    {
     "name": "stdout",
     "output_type": "stream",
     "text": [
      "Triangle area: 25.0\n",
      "Rectangle area: 50\n"
     ]
    }
   ],
   "source": [
    "def calculate_area(base, height, shape_type=\"triangle\"):\n",
    "    if shape_type == \"triangle\":\n",
    "        return 0.5 * base * height\n",
    "    elif shape_type == \"rectangle\":\n",
    "        return base * height\n",
    "    else:\n",
    "        return \"Invalid shape type. Please use 'triangle' or 'rectangle'.\"\n",
    "    \n",
    "triangle_area = calculate_area(5, 10, \"triangle\")\n",
    "rectangle_area = calculate_area(5, 10, \"rectangle\")\n",
    "\n",
    "print(f\"Triangle area: {triangle_area}\")\n",
    "print(f\"Rectangle area: {rectangle_area}\")"
   ]
  },
  {
   "cell_type": "code",
   "execution_count": 8,
   "metadata": {
    "id": "k36chpaXl49M"
   },
   "outputs": [
    {
     "name": "stdout",
     "output_type": "stream",
     "text": [
      "*\n",
      "**\n",
      "***\n",
      "*\n",
      "**\n",
      "***\n",
      "****\n"
     ]
    }
   ],
   "source": [
    "'''3. Write a function called print_pattern that takes integer number as an argument and prints following pattern if input number is 3,\n",
    "*\n",
    "**\n",
    "***\n",
    "if input is 4 then it should print\n",
    "*\n",
    "**\n",
    "***\n",
    "****\n",
    "Basically number of lines it prints is equal to that number. (Hint: you need to use two for loops)'''\n",
    "def print_pattern(number):\n",
    "    for i in range(1, number + 1):\n",
    "        for j in range(i):\n",
    "            print('*', end='')\n",
    "        print()\n",
    "print_pattern(3)\n",
    "print_pattern(4)"
   ]
  },
  {
   "cell_type": "code",
   "execution_count": null,
   "metadata": {},
   "outputs": [],
   "source": []
  }
 ],
 "metadata": {
  "colab": {
   "provenance": []
  },
  "kernelspec": {
   "display_name": "Python 3 (ipykernel)",
   "language": "python",
   "name": "python3"
  },
  "language_info": {
   "codemirror_mode": {
    "name": "ipython",
    "version": 3
   },
   "file_extension": ".py",
   "mimetype": "text/x-python",
   "name": "python",
   "nbconvert_exporter": "python",
   "pygments_lexer": "ipython3",
   "version": "3.11.5"
  }
 },
 "nbformat": 4,
 "nbformat_minor": 1
}
