{
  "cells": [
    {
      "cell_type": "markdown",
      "id": "759d04ba",
      "metadata": {
        "id": "759d04ba"
      },
      "source": [
        "**1-Write a Python program to calculate the length of a string using 2 ways"
      ]
    },
    {
      "cell_type": "code",
      "execution_count": null,
      "id": "e434c950",
      "metadata": {
        "colab": {
          "base_uri": "https://localhost:8080/"
        },
        "id": "e434c950",
        "outputId": "d3aa7668-4947-42e0-849c-b77b690fb6ef"
      },
      "outputs": [
        {
          "output_type": "stream",
          "name": "stdout",
          "text": [
            "7\n"
          ]
        }
      ],
      "source": [
        "name=\"mahmoud\"\n",
        "print(len(name))"
      ]
    },
    {
      "cell_type": "code",
      "execution_count": null,
      "id": "7a2dfa32",
      "metadata": {
        "colab": {
          "base_uri": "https://localhost:8080/"
        },
        "id": "7a2dfa32",
        "outputId": "0688aede-0f12-440e-cc61-aa0b5fbac673"
      },
      "outputs": [
        {
          "output_type": "stream",
          "name": "stdout",
          "text": [
            "7\n"
          ]
        }
      ],
      "source": [
        "name=\"mahmoud\"\n",
        "c=0\n",
        "for i in name:\n",
        "  c+=1\n",
        "print(c)"
      ]
    },
    {
      "cell_type": "markdown",
      "id": "d7cc9da7",
      "metadata": {
        "id": "d7cc9da7"
      },
      "source": [
        "**2-Write a Python program to get a string made of the first 2 and last 2 characters of a given string. If the string length is less than 2, return the empty string instead (\"##Sample String : 'w3resource'\n",
        "Expected Result : 'w3ce'\n",
        "##Sample String : 'w3'\n",
        "Expected Result : 'w3w3'\n",
        "##Sample String : ' w'\n",
        "Expected Result : Empty String)"
      ]
    },
    {
      "cell_type": "code",
      "execution_count": null,
      "id": "dafa9dd8",
      "metadata": {
        "colab": {
          "base_uri": "https://localhost:8080/"
        },
        "id": "dafa9dd8",
        "outputId": "18495af4-2f96-4285-c561-97191ed5ae51"
      },
      "outputs": [
        {
          "output_type": "stream",
          "name": "stdout",
          "text": [
            "enter a string\n",
            "e3\n",
            "e3e3\n"
          ]
        }
      ],
      "source": [
        "str=input(\"enter a string\\n\")\n",
        "if len(str)<2:\n",
        "    print(\" \")\n",
        "else :\n",
        "    print(str[0:2]+str[-2]+str[-1])"
      ]
    },
    {
      "cell_type": "markdown",
      "id": "1534f956",
      "metadata": {
        "id": "1534f956"
      },
      "source": [
        "**3-Write a Python program to add 'ing' at the end of a given string (length should be at least 3). If the given string already ends with 'ing', add 'ly' instead. If the string length of the given string is less than 3, leave it unchanged. (Sample String : 'abc'\n",
        "Expected Result : 'abcing')"
      ]
    },
    {
      "cell_type": "code",
      "execution_count": null,
      "id": "7ff8cec4",
      "metadata": {
        "colab": {
          "base_uri": "https://localhost:8080/"
        },
        "id": "7ff8cec4",
        "outputId": "63a62867-8cf2-49b2-a514-2dc5446452cb"
      },
      "outputs": [
        {
          "output_type": "stream",
          "name": "stdout",
          "text": [
            "enter a string\n",
            "abc\n",
            "abcing\n"
          ]
        }
      ],
      "source": [
        "str=input(\"enter a string\\n\")\n",
        "if len(str)<3 :\n",
        "    print(str)\n",
        "else :\n",
        "    if str.endswith('ing'):\n",
        "        print(str+'ly')\n",
        "    else:\n",
        "        print(str+'ing')"
      ]
    },
    {
      "cell_type": "markdown",
      "id": "1c0a6627",
      "metadata": {
        "id": "1c0a6627"
      },
      "source": [
        "**4-Write a Python function that takes a list of words and return the longest word and the length of the longest one\n",
        "(Longest word: Exercises\n",
        "Length of the longest word: 9)"
      ]
    },
    {
      "cell_type": "code",
      "execution_count": null,
      "id": "397341d9",
      "metadata": {
        "id": "397341d9",
        "colab": {
          "base_uri": "https://localhost:8080/"
        },
        "outputId": "683cb4a4-3238-4ee3-c7d6-d9975e6ae0ae"
      },
      "outputs": [
        {
          "output_type": "stream",
          "name": "stdout",
          "text": [
            "longest word is mahmoud and length is 7\n"
          ]
        }
      ],
      "source": [
        "def longest(li):\n",
        "    le=0\n",
        "    w=\"\"\n",
        "    for word in li :\n",
        "        if len(word)>le:\n",
        "            le=len(word)\n",
        "            w=word\n",
        "    print(\"longest word is \"+w+\" and length is \"+str(le))\n",
        "\n",
        "\n",
        "li=[\"mahmoud\",\"walid\",\"yasser\"]\n",
        "longest(li)"
      ]
    },
    {
      "cell_type": "markdown",
      "id": "53a03a6a",
      "metadata": {
        "id": "53a03a6a"
      },
      "source": [
        "**5-Write a Python program to change a given string to a newly string where the first and last chars have been exchanged using 2 ways (Sample String:abca  Expected Result:ebce)"
      ]
    },
    {
      "cell_type": "code",
      "source": [
        "str= input()\n",
        "print(str[-1]+str[1:-1]+str[0])"
      ],
      "metadata": {
        "id": "05dBkc2prk0t",
        "colab": {
          "base_uri": "https://localhost:8080/"
        },
        "outputId": "5008b5b2-e8b3-4575-a735-853244381426"
      },
      "id": "05dBkc2prk0t",
      "execution_count": null,
      "outputs": [
        {
          "output_type": "stream",
          "name": "stdout",
          "text": [
            "ahmed\n",
            "dhmea\n"
          ]
        }
      ]
    },
    {
      "cell_type": "markdown",
      "id": "25f89808",
      "metadata": {
        "id": "25f89808"
      },
      "source": [
        "**6-Write a Python program to remove characters that have odd index values in a given string (Sample String:abca Expected Result:ac)"
      ]
    },
    {
      "cell_type": "code",
      "execution_count": null,
      "id": "05959bd7",
      "metadata": {
        "id": "05959bd7",
        "colab": {
          "base_uri": "https://localhost:8080/"
        },
        "outputId": "e2836690-1f93-4a16-c5ee-6eb71799098d"
      },
      "outputs": [
        {
          "output_type": "stream",
          "name": "stdout",
          "text": [
            "enter a stringali\n",
            "ai\n"
          ]
        }
      ],
      "source": [
        "str=input(\"enter a string\")\n",
        "print(str[::2])"
      ]
    },
    {
      "cell_type": "markdown",
      "id": "eb16e898",
      "metadata": {
        "id": "eb16e898"
      },
      "source": [
        "**7-Write a Python program to count the occurrences of each word in a given sentence (Sample String:amr and ahmed are frindes but amr is the tallest Expected Result:2)"
      ]
    },
    {
      "cell_type": "code",
      "execution_count": null,
      "id": "01ce6cf5",
      "metadata": {
        "id": "01ce6cf5",
        "colab": {
          "base_uri": "https://localhost:8080/"
        },
        "outputId": "a711de84-6832-4e8e-a937-ade4004c39bb"
      },
      "outputs": [
        {
          "output_type": "stream",
          "name": "stdout",
          "text": [
            "my 2\n",
            "mahmoud 1\n",
            "age 1\n",
            "name 1\n",
            "is 2\n",
            "25 1\n"
          ]
        }
      ],
      "source": [
        "str=\"my name is mahmoud my age is 25\"\n",
        "lis=str.split()\n",
        "lis=set(lis)\n",
        "for word in lis :\n",
        "  print(word ,str.count(word))"
      ]
    },
    {
      "cell_type": "markdown",
      "id": "4e8125f1",
      "metadata": {
        "id": "4e8125f1"
      },
      "source": [
        "**8-Write a Python script that takes input from the user and displays that input back in upper and lower cases"
      ]
    },
    {
      "cell_type": "code",
      "execution_count": null,
      "id": "66c8f778",
      "metadata": {
        "id": "66c8f778",
        "colab": {
          "base_uri": "https://localhost:8080/"
        },
        "outputId": "9a9ca618-d279-47df-8f46-00064c82a054"
      },
      "outputs": [
        {
          "output_type": "stream",
          "name": "stdout",
          "text": [
            "enter a stringmahmoud\n",
            "MAHMOUD\n",
            "mahmoud\n"
          ]
        }
      ],
      "source": [
        "str=input(\"enter a string\")\n",
        "print(str.upper())\n",
        "print(str.lower())"
      ]
    },
    {
      "cell_type": "markdown",
      "id": "fcd68aa1",
      "metadata": {
        "id": "fcd68aa1"
      },
      "source": [
        "**9-Write a Python function to reverse a string if its length is a multiple of 4"
      ]
    },
    {
      "cell_type": "code",
      "execution_count": null,
      "id": "0671a931",
      "metadata": {
        "colab": {
          "base_uri": "https://localhost:8080/"
        },
        "id": "0671a931",
        "outputId": "0a85aa38-2b39-4ceb-9af1-8ca2f68ece81"
      },
      "outputs": [
        {
          "output_type": "stream",
          "name": "stdout",
          "text": [
            "enter a string\n",
            "mahmouds\n",
            "sduomham\n"
          ]
        }
      ],
      "source": [
        "def reverse(str):\n",
        "    return str[::-1]\n",
        "\n",
        "str=input(\"enter a string\\n\")\n",
        "if len(str)%4==0 :\n",
        "    print(reverse(str))\n",
        "else :\n",
        "    print(str)"
      ]
    },
    {
      "cell_type": "markdown",
      "id": "b577c68d",
      "metadata": {
        "id": "b577c68d"
      },
      "source": [
        "**10- Write a Python program to remove a newline in Python"
      ]
    },
    {
      "cell_type": "code",
      "execution_count": null,
      "id": "e0c6525a",
      "metadata": {
        "colab": {
          "base_uri": "https://localhost:8080/"
        },
        "id": "e0c6525a",
        "outputId": "ffb06649-0c46-4884-f786-d6c9d3cc567b"
      },
      "outputs": [
        {
          "output_type": "stream",
          "name": "stdout",
          "text": [
            "mahmoudfarag\n"
          ]
        }
      ],
      "source": [
        "str=\"\\nmahmoud\\nfarag\\n\"\n",
        "print(str.replace(\"\\n\",\"\"))"
      ]
    },
    {
      "cell_type": "markdown",
      "id": "80db5ae0",
      "metadata": {
        "id": "80db5ae0"
      },
      "source": [
        "**11-Write a Python program to check whether a string starts with specified characters"
      ]
    },
    {
      "cell_type": "code",
      "execution_count": null,
      "id": "0cc4e03e",
      "metadata": {
        "colab": {
          "base_uri": "https://localhost:8080/"
        },
        "id": "0cc4e03e",
        "outputId": "59333c7b-4715-4880-eb2b-f6eb4fca2961"
      },
      "outputs": [
        {
          "output_type": "stream",
          "name": "stdout",
          "text": [
            "enter a char\n",
            "m\n",
            "yes\n"
          ]
        }
      ],
      "source": [
        "str=\"mahmoud\"\n",
        "c=input(\"enter a char\\n\")\n",
        "if str.startswith(c):\n",
        "  print(\"yes\")\n",
        "else :\n",
        "  print(\"no\")"
      ]
    },
    {
      "cell_type": "markdown",
      "id": "593a68db",
      "metadata": {
        "id": "593a68db"
      },
      "source": [
        "**12- Write a Python program to add prefix text to all of the lines in a string"
      ]
    },
    {
      "cell_type": "code",
      "execution_count": null,
      "id": "d2e46ada",
      "metadata": {
        "id": "d2e46ada",
        "colab": {
          "base_uri": "https://localhost:8080/"
        },
        "outputId": "684cc537-3438-412b-c4f1-e5c7b20334df"
      },
      "outputs": [
        {
          "output_type": "stream",
          "name": "stdout",
          "text": [
            "mr mahmoud mr farag mr ali "
          ]
        }
      ],
      "source": [
        "str=\"mahmoud farag ali\"\n",
        "li=str.split()\n",
        "for i in li:\n",
        "    print(\"mr\",i,end=\" \")"
      ]
    },
    {
      "cell_type": "markdown",
      "source": [],
      "metadata": {
        "id": "1eSKINJJreNd"
      },
      "id": "1eSKINJJreNd"
    },
    {
      "cell_type": "markdown",
      "id": "86fa1543",
      "metadata": {
        "id": "86fa1543"
      },
      "source": [
        "**13-Write a Python program to print the following numbers up to 2 decimal places"
      ]
    },
    {
      "cell_type": "code",
      "execution_count": null,
      "id": "cd4a9d89",
      "metadata": {
        "id": "cd4a9d89",
        "colab": {
          "base_uri": "https://localhost:8080/"
        },
        "outputId": "da3a9f41-40ad-4b14-9e7d-538f0740647f"
      },
      "outputs": [
        {
          "output_type": "stream",
          "name": "stdout",
          "text": [
            "85.44\n"
          ]
        }
      ],
      "source": [
        "n=85.4445\n",
        "print(round(n,2))"
      ]
    },
    {
      "cell_type": "markdown",
      "id": "452c0ab0",
      "metadata": {
        "id": "452c0ab0"
      },
      "source": [
        "**14-Write a Python program to print the following numbers up to 2 decimal places with a sign"
      ]
    },
    {
      "cell_type": "code",
      "execution_count": null,
      "id": "73e82479",
      "metadata": {
        "id": "73e82479",
        "colab": {
          "base_uri": "https://localhost:8080/"
        },
        "outputId": "94d15891-f883-4d03-c33e-6774c1fcf24f"
      },
      "outputs": [
        {
          "output_type": "stream",
          "name": "stdout",
          "text": [
            "enter number5.4887\n",
            "+ 5.49"
          ]
        }
      ],
      "source": [
        "n=float(input(\"enter number\"))\n",
        "if n>0:\n",
        "    print(\"+\",round(n,2), end=\"\")\n",
        "else :\n",
        "    print(round(n,2))"
      ]
    },
    {
      "cell_type": "markdown",
      "id": "32b1811a",
      "metadata": {
        "id": "32b1811a"
      },
      "source": [
        "**15-Write a Python program to display a number with a comma separator"
      ]
    },
    {
      "cell_type": "code",
      "execution_count": null,
      "id": "f30fc0b6",
      "metadata": {
        "id": "f30fc0b6",
        "colab": {
          "base_uri": "https://localhost:8080/"
        },
        "outputId": "12b81315-52ae-46e7-8d7b-67d45f197ff0"
      },
      "outputs": [
        {
          "output_type": "stream",
          "name": "stdout",
          "text": [
            "1126651\n",
            "1,1,2,6,6,5,1,"
          ]
        }
      ],
      "source": [
        "num=input()\n",
        "for i in num:\n",
        "  print(i+\",\",end=\"\")"
      ]
    },
    {
      "cell_type": "markdown",
      "id": "0477f487",
      "metadata": {
        "id": "0477f487"
      },
      "source": [
        "**16-Write a Python program to reverse a string using 2 ways"
      ]
    },
    {
      "cell_type": "code",
      "source": [
        "str='mahmoud'\n",
        "s=\"\"\n",
        "for i in str:\n",
        "    s=i+s\n",
        "print(s)"
      ],
      "metadata": {
        "id": "nJxJwm3vNipz",
        "outputId": "323c691c-935c-4a95-f095-da53091eb0fd",
        "colab": {
          "base_uri": "https://localhost:8080/"
        }
      },
      "id": "nJxJwm3vNipz",
      "execution_count": null,
      "outputs": [
        {
          "output_type": "stream",
          "name": "stdout",
          "text": [
            "duomham\n"
          ]
        }
      ]
    },
    {
      "cell_type": "code",
      "execution_count": null,
      "id": "aa8beec8",
      "metadata": {
        "colab": {
          "base_uri": "https://localhost:8080/"
        },
        "id": "aa8beec8",
        "outputId": "fc2c2e2d-9416-4289-bd55-d8394a09fea1"
      },
      "outputs": [
        {
          "output_type": "stream",
          "name": "stdout",
          "text": [
            "duomham\n"
          ]
        }
      ],
      "source": [
        "str='mahmoud'\n",
        "print(str[::-1])"
      ]
    },
    {
      "cell_type": "markdown",
      "id": "5afc3166",
      "metadata": {
        "id": "5afc3166"
      },
      "source": [
        " **17-Write a Python program to count repeated characters in a string (hint:use dictionary)"
      ]
    },
    {
      "cell_type": "code",
      "execution_count": null,
      "id": "515a469c",
      "metadata": {
        "id": "515a469c",
        "colab": {
          "base_uri": "https://localhost:8080/"
        },
        "outputId": "4bd580fc-ed01-487a-95eb-207781c67eed"
      },
      "outputs": [
        {
          "output_type": "stream",
          "name": "stdout",
          "text": [
            "{'m': 2, 'a': 4, 'h': 1, 'o': 1, 'u': 1, 'd': 1, ' ': 2, 'f': 1, 'r': 1, 'g': 1, 'l': 1, 'i': 1}\n"
          ]
        }
      ],
      "source": [
        "str=\"mahmoud farag ali\"\n",
        "d=dict()\n",
        "for i in str:\n",
        "  d[i]=0\n",
        "for i in d:\n",
        "  d[i]=str.count(i)\n",
        "print(d)\n"
      ]
    },
    {
      "cell_type": "markdown",
      "id": "ae14e4e5",
      "metadata": {
        "id": "ae14e4e5"
      },
      "source": [
        "**18-Write a Python program to find the first non-repeating character in a given string"
      ]
    },
    {
      "cell_type": "code",
      "execution_count": null,
      "id": "d73778e5",
      "metadata": {
        "id": "d73778e5",
        "colab": {
          "base_uri": "https://localhost:8080/"
        },
        "outputId": "bc5c131c-b85e-4226-dd2a-f8659569c9f2"
      },
      "outputs": [
        {
          "output_type": "stream",
          "name": "stdout",
          "text": [
            "h\n"
          ]
        }
      ],
      "source": [
        "str=\"mahmoud farag ali\"\n",
        "for i in str:\n",
        "  if str.count(i)==1:\n",
        "    print(i)\n",
        "    break\n",
        "\n"
      ]
    },
    {
      "cell_type": "markdown",
      "id": "3adf5669",
      "metadata": {
        "id": "3adf5669"
      },
      "source": [
        "**19-Write a Python program to remove spaces from a given string"
      ]
    },
    {
      "cell_type": "code",
      "execution_count": null,
      "id": "b4f22602",
      "metadata": {
        "id": "b4f22602",
        "colab": {
          "base_uri": "https://localhost:8080/"
        },
        "outputId": "f0aaef0b-9fbf-4eca-ff08-2757787f3ef4"
      },
      "outputs": [
        {
          "output_type": "stream",
          "name": "stdout",
          "text": [
            "enter a string\n",
            "fara          g sfaf gg\n",
            "faragsfafgg\n"
          ]
        }
      ],
      "source": [
        "str=input(\"enter a string\\n\")\n",
        "print(str.replace(\" \",\"\"))"
      ]
    },
    {
      "cell_type": "markdown",
      "id": "734de60c",
      "metadata": {
        "id": "734de60c"
      },
      "source": [
        "**20-Write a Python program to count the number of non-empty substrings of a given string"
      ]
    },
    {
      "cell_type": "code",
      "execution_count": null,
      "id": "ef3f2274",
      "metadata": {
        "id": "ef3f2274",
        "colab": {
          "base_uri": "https://localhost:8080/"
        },
        "outputId": "999affdc-2388-4414-d4f3-029fa79fc5a3"
      },
      "outputs": [
        {
          "output_type": "stream",
          "name": "stdout",
          "text": [
            "ahmed\n",
            "15.0\n"
          ]
        }
      ],
      "source": [
        "str=input()\n",
        "num=(len(str)*(len(str)+1))/2\n",
        "print(num)"
      ]
    },
    {
      "cell_type": "markdown",
      "id": "509998e2",
      "metadata": {
        "id": "509998e2"
      },
      "source": [
        "**21-write a Python program to swap first and last element of any list."
      ]
    },
    {
      "cell_type": "code",
      "execution_count": null,
      "id": "68692d7f",
      "metadata": {
        "id": "68692d7f",
        "colab": {
          "base_uri": "https://localhost:8080/"
        },
        "outputId": "8ee44fc8-e06d-4352-d935-17bae89269cf"
      },
      "outputs": [
        {
          "output_type": "stream",
          "name": "stdout",
          "text": [
            "[5, 2, 35, 4, 5, 1]\n"
          ]
        }
      ],
      "source": [
        "li=[1,2,35,4,5,5]\n",
        "sw=li[0]\n",
        "li[0]=li[len(li)-1]\n",
        "li[len(li)-1]=sw\n",
        "print(li)"
      ]
    },
    {
      "cell_type": "markdown",
      "id": "959e0837",
      "metadata": {
        "id": "959e0837"
      },
      "source": [
        "**22-Given a list in Python and provided the positions of the elements, write a program to swap the two elements in the list. (Input : List = [23, 65, 19, 90], pos1 = 1, pos2 = 3\n",
        "Output : [19, 65, 23, 90])"
      ]
    },
    {
      "cell_type": "code",
      "execution_count": null,
      "id": "225d8c6d",
      "metadata": {
        "id": "225d8c6d",
        "colab": {
          "base_uri": "https://localhost:8080/"
        },
        "outputId": "25bd6df9-c1eb-4cee-9652-ab9d0fa1c795"
      },
      "outputs": [
        {
          "output_type": "stream",
          "name": "stdout",
          "text": [
            "1\n",
            "3\n",
            "[19, 65, 23, 90]\n"
          ]
        }
      ],
      "source": [
        "list=[23, 65, 19, 90]\n",
        "pos1=int(input())\n",
        "pos2=int(input())\n",
        "list[pos1-1],list[pos2-1]=list[pos2-1],list[pos1-1]\n",
        "print(list)\n"
      ]
    },
    {
      "cell_type": "markdown",
      "id": "66fc6682",
      "metadata": {
        "id": "66fc6682"
      },
      "source": [
        "**23- search for the all ways to know the length of the list"
      ]
    },
    {
      "cell_type": "code",
      "execution_count": null,
      "id": "63ff8b43",
      "metadata": {
        "id": "63ff8b43",
        "colab": {
          "base_uri": "https://localhost:8080/"
        },
        "outputId": "cd2fc6a9-c373-4586-8e9b-c0836348d4a5"
      },
      "outputs": [
        {
          "output_type": "stream",
          "name": "stdout",
          "text": [
            "4\n"
          ]
        }
      ],
      "source": [
        "list=[1,2,3,5]\n",
        "print(len(list))"
      ]
    },
    {
      "cell_type": "markdown",
      "source": [
        "**24-write a Python code to find the Maximum number of list of number of list"
      ],
      "metadata": {
        "id": "X9e328Gzj7Wj"
      },
      "id": "X9e328Gzj7Wj"
    },
    {
      "cell_type": "code",
      "execution_count": null,
      "id": "15f342de",
      "metadata": {
        "id": "15f342de",
        "colab": {
          "base_uri": "https://localhost:8080/"
        },
        "outputId": "931268bc-cf88-4c51-d71f-549040bb8a83"
      },
      "outputs": [
        {
          "output_type": "stream",
          "name": "stdout",
          "text": [
            "9\n"
          ]
        }
      ],
      "source": [
        "li=[5,7,4,9,6,3,1,5,4,7]\n",
        "li.sort()\n",
        "print(li[len(li)-1])"
      ]
    },
    {
      "cell_type": "code",
      "execution_count": null,
      "id": "1a89b9d3",
      "metadata": {
        "id": "1a89b9d3"
      },
      "outputs": [],
      "source": [
        "#**25-write a Python code to find the Minimum number of list of numbers."
      ]
    },
    {
      "cell_type": "code",
      "execution_count": null,
      "id": "21f8cbd6",
      "metadata": {
        "id": "21f8cbd6",
        "colab": {
          "base_uri": "https://localhost:8080/"
        },
        "outputId": "8645bfa0-0e3d-4e5c-a64c-a6d649932edd"
      },
      "outputs": [
        {
          "output_type": "stream",
          "name": "stdout",
          "text": [
            "1\n"
          ]
        }
      ],
      "source": [
        "li=[5,7,4,9,6,3,1,5,4,7]\n",
        "li.sort()\n",
        "print(li[0])"
      ]
    },
    {
      "cell_type": "markdown",
      "id": "96822d96",
      "metadata": {
        "id": "96822d96"
      },
      "source": [
        "**26-search for if an elem is existing in list"
      ]
    },
    {
      "cell_type": "code",
      "execution_count": null,
      "id": "51ca5c9a",
      "metadata": {
        "id": "51ca5c9a",
        "colab": {
          "base_uri": "https://localhost:8080/"
        },
        "outputId": "998d5df5-5601-46be-c410-d003149ba65d"
      },
      "outputs": [
        {
          "output_type": "stream",
          "name": "stdout",
          "text": [
            "4\n",
            "exist\n"
          ]
        }
      ],
      "source": [
        "list=[1,2,3,4]\n",
        "i=int(input())\n",
        "if i in list:\n",
        "    print(\"exist\")\n",
        "else :\n",
        "    print(\"not exist\")"
      ]
    },
    {
      "cell_type": "markdown",
      "id": "d9557da7",
      "metadata": {
        "id": "d9557da7"
      },
      "source": [
        "**27- clear python list using different ways"
      ]
    },
    {
      "cell_type": "code",
      "execution_count": null,
      "id": "b69858a3",
      "metadata": {
        "id": "b69858a3",
        "colab": {
          "base_uri": "https://localhost:8080/"
        },
        "outputId": "ed6d8312-5ba1-46fe-dc62-b00ec5bd901c"
      },
      "outputs": [
        {
          "output_type": "stream",
          "name": "stdout",
          "text": [
            "None\n",
            "[]\n"
          ]
        }
      ],
      "source": [
        "list=[1,2,3,4]\n",
        "print(list.clear())\n",
        "lis=[1,2,3,4,5]\n",
        "for i in range (len(lis)):\n",
        "    lis.pop()\n",
        "print(lis)"
      ]
    },
    {
      "cell_type": "markdown",
      "id": "52160e88",
      "metadata": {
        "id": "52160e88"
      },
      "source": [
        "**28-remove duplicated elements from a list"
      ]
    },
    {
      "cell_type": "code",
      "execution_count": null,
      "id": "5e362228",
      "metadata": {
        "id": "5e362228",
        "colab": {
          "base_uri": "https://localhost:8080/"
        },
        "outputId": "f993f102-2791-4769-d429-bae5c57c379e"
      },
      "outputs": [
        {
          "output_type": "stream",
          "name": "stdout",
          "text": [
            "{1, 2, 3, 4, 5}\n"
          ]
        }
      ],
      "source": [
        "li=[1,1,2,2,3,5,4]\n",
        "li=set(li)\n",
        "print(li)"
      ]
    },
    {
      "cell_type": "markdown",
      "id": "282337f7",
      "metadata": {
        "id": "282337f7"
      },
      "source": [
        "**29-Given list values and keys list, convert these values to key value pairs in form of list of dictionaries. (Input : test_list = [“Gfg”, 3, “is”, 8], key_list = [“name”, “id”]\n",
        "Output : [{‘name’: ‘Gfg’, ‘id’: 3}, {‘name’: ‘is’, ‘id’: 8}])"
      ]
    },
    {
      "cell_type": "code",
      "execution_count": 4,
      "id": "4d4e2d28",
      "metadata": {
        "id": "4d4e2d28",
        "outputId": "d39fef73-6293-41eb-e860-9d68b071bded",
        "colab": {
          "base_uri": "https://localhost:8080/"
        }
      },
      "outputs": [
        {
          "output_type": "stream",
          "name": "stdout",
          "text": [
            "[{'name': 'Gfg', 'id': 3}, {'name': 'is', 'id': 8}]\n"
          ]
        }
      ],
      "source": [
        "t_list = [\"Gfg\", 3, \"is\", 8]\n",
        "k_list = [\"name\", \"id\"]\n",
        "result = [{k_list[0]: t_list[i], k_list[1]: t_list[i + 1]} for i in range(0, len(t_list), 2)]\n",
        "print(result)"
      ]
    },
    {
      "cell_type": "markdown",
      "id": "c26b6e9f",
      "metadata": {
        "id": "c26b6e9f"
      },
      "source": [
        "**30-write a python program to count unique values inside a list using different ways"
      ]
    },
    {
      "cell_type": "code",
      "execution_count": null,
      "id": "72132667",
      "metadata": {
        "id": "72132667",
        "colab": {
          "base_uri": "https://localhost:8080/"
        },
        "outputId": "7f95bf75-4240-4234-c02f-88ea1b7e1184"
      },
      "outputs": [
        {
          "output_type": "stream",
          "name": "stdout",
          "text": [
            "2\n"
          ]
        }
      ],
      "source": [
        "li=[1,2,3,4,4,5,5,4,3]\n",
        "c=0\n",
        "for i in li:\n",
        "    if li.count(i)==1:\n",
        "        c+=1\n",
        "print(c)\n"
      ]
    },
    {
      "cell_type": "markdown",
      "id": "fed6677c",
      "metadata": {
        "id": "fed6677c"
      },
      "source": [
        "**31-write a python program Extract all elements with Frequency greater than K (Input : test_list = [4, 6, 4, 3, 3, 4, 3, 4, 3, 8], K = 3\n",
        "Output : [4, 3] )"
      ]
    },
    {
      "cell_type": "code",
      "execution_count": null,
      "id": "d81f3f9d",
      "metadata": {
        "id": "d81f3f9d",
        "colab": {
          "base_uri": "https://localhost:8080/"
        },
        "outputId": "73d036c6-ed6c-436f-d421-fe388a621bf1"
      },
      "outputs": [
        {
          "output_type": "stream",
          "name": "stdout",
          "text": [
            "3\n",
            "[4, 3]\n"
          ]
        }
      ],
      "source": [
        "lis=[4, 6, 4, 3, 3, 4, 3, 4, 3, 8]\n",
        "k=int(input())\n",
        "res=[]\n",
        "for i in lis:\n",
        "  if lis.count(i)>k and i not in res:\n",
        "    res.append(i)\n",
        "print(res)"
      ]
    },
    {
      "cell_type": "markdown",
      "id": "caca5224",
      "metadata": {
        "id": "caca5224"
      },
      "source": [
        "**32-write a python program to find the Strongest Neighbour (Input: 1 2 2 3 4 5\n",
        "Output: 2 2 3 4 5)"
      ]
    },
    {
      "cell_type": "code",
      "execution_count": null,
      "id": "39fbd9b2",
      "metadata": {
        "id": "39fbd9b2",
        "colab": {
          "base_uri": "https://localhost:8080/"
        },
        "outputId": "f7df84a1-a97d-4fa3-a118-f9a76d37becb"
      },
      "outputs": [
        {
          "output_type": "stream",
          "name": "stdout",
          "text": [
            "2 2 3 4 5 "
          ]
        }
      ],
      "source": [
        "def maximumAdjacent(arr1, n):\n",
        "    arr2 = []\n",
        "    for i in range(1, n):\n",
        "        r = max(arr1[i], arr1[i-1])\n",
        "        arr2.append(r)\n",
        "\n",
        "    for ele in arr2 :\n",
        "        print(ele,end=\" \")\n",
        "n = 6\n",
        "arr1 = [1,2,2,3,4,5]\n",
        "maximumAdjacent(arr1, n)"
      ]
    },
    {
      "cell_type": "markdown",
      "id": "a9fa8baf",
      "metadata": {
        "id": "a9fa8baf"
      },
      "source": [
        "**33-write a Python Program to print all Possible Combinations from the three Digits (Input: [1, 2, 3]\n",
        "Output:\n",
        "1 2 3 ##\n",
        "1 3 2 ##\n",
        "2 1 3 ##\n",
        "2 3 1 ##\n",
        "3 1 2 ##\n",
        "3 2 1)"
      ]
    },
    {
      "cell_type": "code",
      "execution_count": null,
      "id": "8c520a76",
      "metadata": {
        "id": "8c520a76"
      },
      "outputs": [],
      "source": [
        "def comb(L):\n",
        "\n",
        "    for i in range(3):\n",
        "        for j in range(3):\n",
        "            for k in range(3):\n",
        "                if (i!=j and j!=k and i!=k):\n",
        "                    print(L[i], L[j], L[k])\n",
        "\n",
        "comb([1, 2, 3])"
      ]
    },
    {
      "cell_type": "markdown",
      "id": "5288bb89",
      "metadata": {
        "id": "5288bb89"
      },
      "source": [
        "**34-write a Python program to find all the Combinations in the list with the given condition (Input: test_list = [1,2,3]\n",
        "Output:\n",
        " [1], [1, 2], [1, 2, 3], [1, 3]\n",
        " [2], [2, 3], [3])"
      ]
    },
    {
      "cell_type": "code",
      "execution_count": 5,
      "id": "59b89646",
      "metadata": {
        "id": "59b89646",
        "outputId": "dbf6944c-6a2f-4986-fa12-e3f535ac6768",
        "colab": {
          "base_uri": "https://localhost:8080/"
        }
      },
      "outputs": [
        {
          "output_type": "stream",
          "name": "stdout",
          "text": [
            "[1]\n",
            "[1, 2]\n",
            "[1, 2, 3]\n",
            "[1, 3]\n",
            "[2]\n",
            "[2, 3]\n",
            "[3]\n"
          ]
        }
      ],
      "source": [
        "def combinations(test_list, start=0, path=[]):\n",
        "    if path:\n",
        "        print(path)\n",
        "    for i in range(start, len(test_list)):\n",
        "        combinations(test_list, i + 1, path + [test_list[i]])\n",
        "\n",
        "test_list = [1, 2, 3]\n",
        "combinations(test_list)"
      ]
    },
    {
      "cell_type": "markdown",
      "id": "39973705",
      "metadata": {
        "id": "39973705"
      },
      "source": [
        "**35-write a Python program to get all unique combinations of two Lists (List_1 = [\"a\",\"b\"]\n",
        "List_2 = [1,2]\n",
        "Unique_combination = [[('a',1),('b',2)],[('a',2),('b',1)]] )"
      ]
    },
    {
      "cell_type": "code",
      "execution_count": null,
      "id": "8c4ba22b",
      "metadata": {
        "id": "8c4ba22b"
      },
      "outputs": [],
      "source": [
        "list_1 = [\"a\", \"b\"]\n",
        "list_2 = [1,2]\n",
        "unique_combinations = []\n",
        "for i in range(len(list_1)):\n",
        "\tfor j in range(len(list_2)):\n",
        "\t\tunique_combinations.append((list_1[i], list_2[j]))\n",
        "\n",
        "print(unique_combinations)"
      ]
    },
    {
      "cell_type": "markdown",
      "id": "25199af5",
      "metadata": {
        "id": "25199af5"
      },
      "source": [
        "**36-Remove all the occurrences of an element from a list in Python (Input : 1 1 2 3 4 5 1 2 1\n",
        "\n",
        "**Output : 2 3 4 5 2)"
      ]
    },
    {
      "cell_type": "code",
      "execution_count": null,
      "id": "6dc4c2ba",
      "metadata": {
        "id": "6dc4c2ba",
        "colab": {
          "base_uri": "https://localhost:8080/"
        },
        "outputId": "a3e4eb72-7f30-4555-bf90-f30be34d5d38"
      },
      "outputs": [
        {
          "output_type": "stream",
          "name": "stdout",
          "text": [
            "4\n",
            "[1, 2, 3, 1, 1, 5]\n"
          ]
        }
      ],
      "source": [
        "list=[1,2,3,4,4,1,1,4,4,4,4,4,5]\n",
        "n=int(input())\n",
        "r=list.count(n)\n",
        "for i in range (0,r):\n",
        "    list.remove(n)\n",
        "print(list)"
      ]
    },
    {
      "cell_type": "markdown",
      "id": "bf1a3c93",
      "metadata": {
        "id": "bf1a3c93"
      },
      "source": [
        "**37-write a python program to Replace index elements with elements in Other List (The original list 1 is : [‘Gfg’, ‘is’, ‘best’] The original list 2 is : [0, 1, 2, 1, 0, 0, 0, 2, 1, 1, 2, 0] The lists after index elements replacements is : [‘Gfg’, ‘is’, ‘best’, ‘is’, ‘Gfg’, ‘Gfg’, ‘Gfg’, ‘best’, ‘is’, ‘is’, ‘best’, ‘Gfg’])"
      ]
    },
    {
      "cell_type": "code",
      "execution_count": null,
      "id": "fdd66a71",
      "metadata": {
        "id": "fdd66a71",
        "colab": {
          "base_uri": "https://localhost:8080/"
        },
        "outputId": "b0c593ee-8df1-42fc-c4ab-41d133022c2e"
      },
      "outputs": [
        {
          "output_type": "stream",
          "name": "stdout",
          "text": [
            "['Gfg', 'is', 'best', 'is', 'Gfg', 'Gfg', 'Gfg', 'best', 'is', 'is', 'best', 'Gfg']\n"
          ]
        }
      ],
      "source": [
        "li1= [\"Gfg\", \"is\", \"best\"]\n",
        "li2=[0, 1, 2, 1, 0, 0, 0, 2, 1, 1, 2, 0]\n",
        "li=[]\n",
        "for i in li2:\n",
        "    i=li1[li2[i]]\n",
        "    li.append(i)\n",
        "print(li)"
      ]
    },
    {
      "cell_type": "markdown",
      "id": "af0f56e8",
      "metadata": {
        "id": "af0f56e8"
      },
      "source": [
        "**38- write python program to Retain records with N occurrences of K(Input : test_list = [(4, 5, 5, 4), (5, 4, 3)], K = 5, N = 2\n",
        "Output : [(4, 5, 5, 4)]\n",
        "Input : test_list = [(4, 5, 5, 4), (5, 4, 3)], K = 5, N = 3\n",
        "Output : [] )"
      ]
    },
    {
      "cell_type": "code",
      "execution_count": null,
      "id": "67b06671",
      "metadata": {
        "id": "67b06671",
        "colab": {
          "base_uri": "https://localhost:8080/"
        },
        "outputId": "cfafd100-bc29-4ab7-840a-009ecbe4b69a"
      },
      "outputs": [
        {
          "output_type": "stream",
          "name": "stdout",
          "text": [
            "5\n",
            "2\n",
            "[(4, 5, 5, 4), (1, 5, 5, 7)]\n"
          ]
        }
      ],
      "source": [
        "test_list = [(4, 5, 5, 4), (5, 4, 3),(1,5,5,7)]\n",
        "k=int(input())\n",
        "n=int(input())\n",
        "li=list()\n",
        "for i in test_list:\n",
        "    if i.count(k)==n:\n",
        "        li.append(i)\n",
        "print(li)\n"
      ]
    },
    {
      "cell_type": "markdown",
      "id": "de76f183",
      "metadata": {
        "id": "de76f183"
      },
      "source": [
        "**39-write a Python Program to Sort the list according to the column using lambda\n",
        "array = [[1, 3, 3], [2, 1, 2], [3, 2, 1]]\n",
        "Output :\n",
        "Sorted array specific to column 0, [[1, 3, 3], [2, 1, 2], [3, 2, 1]]\n",
        "Sorted array specific to column 1, [[2, 1, 2], [3, 2, 1], [1, 3, 3]]\n",
        "Sorted array specific to column 2, [[3, 2, 1], [2, 1, 2], [1, 3, 3]]"
      ]
    },
    {
      "cell_type": "code",
      "execution_count": 7,
      "id": "dc883308",
      "metadata": {
        "id": "dc883308",
        "outputId": "05d02607-7595-429e-953b-ab895455d393",
        "colab": {
          "base_uri": "https://localhost:8080/"
        }
      },
      "outputs": [
        {
          "output_type": "stream",
          "name": "stdout",
          "text": [
            "Sorted array specific to column 1: [[1, 3, 3], [2, 1, 2], [3, 2, 1]]\n",
            "Sorted array specific to column 2: [[2, 1, 2], [3, 2, 1], [1, 3, 3]]\n",
            "Sorted array specific to column 3: [[3, 2, 1], [2, 1, 2], [1, 3, 3]]\n"
          ]
        }
      ],
      "source": [
        "array = [[1, 3, 3], [2, 1, 2], [3, 2, 1]]\n",
        "def sort_by_column(array, column_index):\n",
        "    return sorted(array, key=lambda x: x[column_index])\n",
        "c1 = sort_by_column(array, 0)\n",
        "c2 = sort_by_column(array, 1)\n",
        "c3 = sort_by_column(array, 2)\n",
        "print(f\"Sorted array specific to column 1: {c1}\")\n",
        "print(f\"Sorted array specific to column 2: {c2}\")\n",
        "print(f\"Sorted array specific to column 3: {c3}\")"
      ]
    },
    {
      "cell_type": "code",
      "execution_count": null,
      "id": "d2e7b31f",
      "metadata": {
        "id": "d2e7b31f"
      },
      "outputs": [],
      "source": [
        "**40- write a program to Sort Python Dictionaries by Key or Value\n",
        "Input:\n",
        "{'ravi': 10, 'rajnish': 9, 'sanjeev': 15, 'yash': 2, 'suraj': 32}\n",
        "\n",
        "Output:\n",
        "{'rajnish': 9, 'ravi': 10, 'sanjeev': 15, 'suraj': 32, 'yash': 2}"
      ]
    },
    {
      "cell_type": "code",
      "execution_count": null,
      "id": "a96db4a0",
      "metadata": {
        "id": "a96db4a0",
        "colab": {
          "base_uri": "https://localhost:8080/"
        },
        "outputId": "5ab04bf0-86c5-4d9a-b8f2-4a8d1c727d9f"
      },
      "outputs": [
        {
          "output_type": "stream",
          "name": "stdout",
          "text": [
            "{'rajnish': 9, 'ravi': 10, 'sanjeev': 15, 'suraj': 32, 'yash': 2}\n"
          ]
        }
      ],
      "source": [
        "dic={'ravi': 10, 'rajnish': 9, 'sanjeev': 15, 'yash': 2, 'suraj': 32}\n",
        "li=list(dic.keys())\n",
        "li.sort()\n",
        "new_dic={i:dic[i] for i in li}\n",
        "print(new_dic)"
      ]
    },
    {
      "cell_type": "markdown",
      "id": "ec63c23a",
      "metadata": {
        "id": "ec63c23a"
      },
      "source": [
        "**41-write python program to Remove keys with Values Greater than K ( Including mixed values )\n",
        "nput : test_dict = {‘Gfg’ : 3, ‘is’ : 7, ‘best’ : 10, ‘for’ : 6, ‘geeks’ : ‘CS’},\n",
        "K = 7\n",
        "Output : {‘Gfg’ : 3, ‘for’ : 6, ‘geeks’ : ‘CS’}"
      ]
    },
    {
      "cell_type": "code",
      "execution_count": null,
      "id": "e39c3a40",
      "metadata": {
        "id": "e39c3a40",
        "colab": {
          "base_uri": "https://localhost:8080/"
        },
        "outputId": "d7c4a395-eaef-499d-d161-7236590a776e"
      },
      "outputs": [
        {
          "output_type": "stream",
          "name": "stdout",
          "text": [
            "{'Gfg': 3, 'is': 7, 'for': 6, 'geeks': 'CS'}\n"
          ]
        }
      ],
      "source": [
        "k = 7\n",
        "res = {}\n",
        "test_dict = {\"Gfg\": 3, \"is\": 7, \"best\": 10, \"for\": 6, \"geeks\": \"CS\"}\n",
        "for key in test_dict:\n",
        "    if not (isinstance(test_dict[key], int) and test_dict[key] > k):\n",
        "        res[key] = test_dict[key]\n",
        "\n",
        "print(res)"
      ]
    },
    {
      "cell_type": "markdown",
      "id": "f143f0fe",
      "metadata": {
        "id": "f143f0fe"
      },
      "source": [
        "**42-Write a Python program to concatenate the following dictionaries to create a new one\n",
        "\n",
        "Sample Dictionary :\n",
        "dic1={1:10, 2:20}\n",
        "dic2={3:30, 4:40}\n",
        "dic3={5:50,6:60}\n",
        "Expected Result : {1: 10, 2: 20, 3: 30, 4: 40, 5: 50, 6: 60}"
      ]
    },
    {
      "cell_type": "code",
      "execution_count": null,
      "id": "74ffdfea",
      "metadata": {
        "id": "74ffdfea",
        "colab": {
          "base_uri": "https://localhost:8080/"
        },
        "outputId": "cca45b95-099b-4f69-bfab-eeee994ee32d"
      },
      "outputs": [
        {
          "output_type": "stream",
          "name": "stdout",
          "text": [
            "{5: 50, 6: 60, 3: 30, 4: 40, 1: 10, 2: 20}\n"
          ]
        }
      ],
      "source": [
        "dic1={1:10, 2:20}\n",
        "dic2={3:30, 4:40}\n",
        "dic3={5:50,6:60}\n",
        "dic2.update(dic1)\n",
        "dic3.update(dic2)\n",
        "print(dic3)"
      ]
    },
    {
      "cell_type": "markdown",
      "id": "fb04c93c",
      "metadata": {
        "id": "fb04c93c"
      },
      "source": [
        "**43-Write a Python program to iterate over dictionaries using for loops"
      ]
    },
    {
      "cell_type": "code",
      "execution_count": null,
      "id": "6aebc470",
      "metadata": {
        "id": "6aebc470",
        "colab": {
          "base_uri": "https://localhost:8080/"
        },
        "outputId": "42411554-83db-42db-eb17-c9a13374fe6a"
      },
      "outputs": [
        {
          "output_type": "stream",
          "name": "stdout",
          "text": [
            "<class 'list'>\n",
            "['Gujarat', 'Maharashtra', 'Rajasthan', 'Bihar']\n"
          ]
        }
      ],
      "source": [
        "dic = {\n",
        "    'Gujarat': 'Gandhinagar',\n",
        "    'Maharashtra': 'Mumbai',\n",
        "    'Rajasthan': 'Jaipur',\n",
        "    'Bihar': 'Patna'\n",
        "}\n",
        "keys = dic.keys()\n",
        "print(keys)"
      ]
    },
    {
      "cell_type": "markdown",
      "id": "5f491a9d",
      "metadata": {
        "id": "5f491a9d"
      },
      "source": [
        "**44- Write a Python script to merge two Python dictionaries"
      ]
    },
    {
      "cell_type": "code",
      "execution_count": null,
      "id": "b8a14028",
      "metadata": {
        "id": "b8a14028",
        "colab": {
          "base_uri": "https://localhost:8080/"
        },
        "outputId": "d4f50bc5-6238-4e21-c3a4-d97a3dc8bb46"
      },
      "outputs": [
        {
          "output_type": "stream",
          "name": "stdout",
          "text": [
            "{'a': 10, 'b': 8, 'd': 6, 'c': 4}\n"
          ]
        }
      ],
      "source": [
        "dic1 = {'a': 10, 'b': 8}\n",
        "dic2 = {'d': 6, 'c': 4}\n",
        "dic1.update(dic2)\n",
        "print(dic1)"
      ]
    },
    {
      "cell_type": "markdown",
      "id": "216fc72d",
      "metadata": {
        "id": "216fc72d"
      },
      "source": [
        "**45-Write a Python program to get the maximum and minimum values of a dictionary values"
      ]
    },
    {
      "cell_type": "code",
      "execution_count": null,
      "id": "d6883f5f",
      "metadata": {
        "id": "d6883f5f",
        "colab": {
          "base_uri": "https://localhost:8080/"
        },
        "outputId": "9d604915-a020-42cf-ea7f-e9ebb5069137"
      },
      "outputs": [
        {
          "output_type": "stream",
          "name": "stdout",
          "text": [
            "1\n",
            "3\n"
          ]
        }
      ],
      "source": [
        "dict={1:2,2:3,3:1}\n",
        "li=list(dict.values())\n",
        "print(min(li))\n",
        "print(max(li))"
      ]
    },
    {
      "cell_type": "markdown",
      "id": "b6a53011",
      "metadata": {
        "id": "b6a53011"
      },
      "source": [
        "**46- Write a Python program to drop empty items from a given dictionary.\n",
        "Original Dictionary:\n",
        "{'c1': 'Red', 'c2': 'Green', 'c3': None}\n",
        "New Dictionary after dropping empty items:\n",
        "{'c1': 'Red', 'c2': 'Green'}"
      ]
    },
    {
      "cell_type": "code",
      "execution_count": null,
      "id": "b5c6fecf",
      "metadata": {
        "id": "b5c6fecf"
      },
      "outputs": [],
      "source": [
        "color = {'c1': 'Red', 'c2': 'Green', 'c3': None}\n",
        "print(\"Original Dictionary:\",color)\n",
        "color = {key:value for (key, value) in color.items() if value is not None}\n",
        "print(\"New Dictionary :\",color)"
      ]
    },
    {
      "cell_type": "markdown",
      "id": "46d718c7",
      "metadata": {
        "id": "46d718c7"
      },
      "source": [
        "**47-Write a Python program to create a tuple of numbers and print one item"
      ]
    },
    {
      "cell_type": "code",
      "execution_count": null,
      "id": "13216ff5",
      "metadata": {
        "id": "13216ff5",
        "colab": {
          "base_uri": "https://localhost:8080/"
        },
        "outputId": "75e7922d-f5f8-4385-9f5b-1deeb7cf20fb"
      },
      "outputs": [
        {
          "output_type": "stream",
          "name": "stdout",
          "text": [
            "(1, 3, 2)\n"
          ]
        }
      ],
      "source": [
        "a=1\n",
        "b=2\n",
        "c=3\n",
        "tu=a,c,b\n",
        "print(tu)"
      ]
    },
    {
      "cell_type": "markdown",
      "id": "2be5b56b",
      "metadata": {
        "id": "2be5b56b"
      },
      "source": [
        "**48-Write a Python program to unpack a tuple into several variables"
      ]
    },
    {
      "cell_type": "code",
      "execution_count": null,
      "id": "595f44be",
      "metadata": {
        "id": "595f44be",
        "colab": {
          "base_uri": "https://localhost:8080/"
        },
        "outputId": "33955d59-c1d4-4e91-c985-2c65656065cf"
      },
      "outputs": [
        {
          "output_type": "stream",
          "name": "stdout",
          "text": [
            "1 2 7 "
          ]
        }
      ],
      "source": [
        "tu=(1,2,7)\n",
        "a,b,c=tu\n",
        "print(a,b,c,end=\" \")"
      ]
    },
    {
      "cell_type": "markdown",
      "id": "392388a7",
      "metadata": {
        "id": "392388a7"
      },
      "source": [
        "**49-Write a Python program to add an item to a tuple"
      ]
    },
    {
      "cell_type": "code",
      "execution_count": null,
      "id": "54cc092e",
      "metadata": {
        "id": "54cc092e",
        "colab": {
          "base_uri": "https://localhost:8080/"
        },
        "outputId": "6a348cfd-b386-4996-f674-532b17d081fe"
      },
      "outputs": [
        {
          "output_type": "stream",
          "name": "stdout",
          "text": [
            "(10, 40, 50, 70, 90, 100)\n"
          ]
        }
      ],
      "source": [
        "t = (10,40,50,70,90)\n",
        "l=(100,)\n",
        "t=t+l\n",
        "print(t)"
      ]
    },
    {
      "cell_type": "markdown",
      "id": "3e8fd124",
      "metadata": {
        "id": "3e8fd124"
      },
      "source": [
        "**50-Write a Python program to convert a tuple to a string"
      ]
    },
    {
      "cell_type": "code",
      "execution_count": null,
      "id": "92a71ddc",
      "metadata": {
        "id": "92a71ddc"
      },
      "outputs": [],
      "source": [
        "tup = (\"f\",\"a\",\"r\",\"a\",\"g\")\n",
        "str = ''.join(tup)\n",
        "print(str)"
      ]
    },
    {
      "cell_type": "markdown",
      "id": "f4f64ef4",
      "metadata": {
        "id": "f4f64ef4"
      },
      "source": [
        "**51-Write a Python program to convert a list to a tuple"
      ]
    },
    {
      "cell_type": "code",
      "execution_count": null,
      "id": "210d56d3",
      "metadata": {
        "id": "210d56d3",
        "colab": {
          "base_uri": "https://localhost:8080/"
        },
        "outputId": "4a606660-16b4-4dde-8ca4-2477bd40b5f1"
      },
      "outputs": [
        {
          "output_type": "stream",
          "name": "stdout",
          "text": [
            "(1, 2, 3, 4)\n"
          ]
        }
      ],
      "source": [
        "li=[1,2,3,4]\n",
        "li=tuple(li)\n",
        "print(li)"
      ]
    },
    {
      "cell_type": "markdown",
      "id": "b1e00ef7",
      "metadata": {
        "id": "b1e00ef7"
      },
      "source": [
        "**52-Write a Python program to reverse a tuple"
      ]
    },
    {
      "cell_type": "code",
      "execution_count": null,
      "id": "f45bfdc7",
      "metadata": {
        "id": "f45bfdc7",
        "colab": {
          "base_uri": "https://localhost:8080/"
        },
        "outputId": "db01bf27-4f9d-4c1f-f73c-784444364f4c"
      },
      "outputs": [
        {
          "output_type": "stream",
          "name": "stdout",
          "text": [
            "(4, 3, 2, 1)\n"
          ]
        }
      ],
      "source": [
        "li=(1,2,3,4)\n",
        "li=list(li)\n",
        "li.reverse()\n",
        "li=tuple(li)\n",
        "print(li)"
      ]
    },
    {
      "cell_type": "markdown",
      "id": "3cd347d1",
      "metadata": {
        "id": "3cd347d1"
      },
      "source": [
        "**53-Write a Python program to replace the last value of tuples in a list.\n",
        "Sample list: [(10, 20, 40), (40, 50, 60), (70, 80, 90)]\n",
        "Expected Output: [(10, 20, 100), (40, 50, 100), (70, 80, 100)]"
      ]
    },
    {
      "cell_type": "code",
      "execution_count": null,
      "id": "3c4a2a4c",
      "metadata": {
        "id": "3c4a2a4c",
        "colab": {
          "base_uri": "https://localhost:8080/"
        },
        "outputId": "8afb90e8-4f5b-46c7-8ce7-700d30dcce21"
      },
      "outputs": [
        {
          "output_type": "stream",
          "name": "stdout",
          "text": [
            "[(10, 20, 100), (40, 50, 100), (70, 80, 100)]\n"
          ]
        }
      ],
      "source": [
        "lis=[(10, 20, 40), (40, 50, 60), (70, 80, 90)]\n",
        "li=list()\n",
        "for i in lis:\n",
        "    i=list(i)\n",
        "    i[len(i)-1]=100\n",
        "    i=tuple(i)\n",
        "    li.append(i)\n",
        "print(li)"
      ]
    },
    {
      "cell_type": "markdown",
      "id": "76bb7b39",
      "metadata": {
        "id": "76bb7b39"
      },
      "source": [
        "**54-Write a Python program to convert a given string list to a tuple\n",
        "Original string: python 3.0\n",
        "<class 'str'>\n",
        "Convert the said string to a tuple:\n",
        "('p', 'y', 't', 'h', 'o', 'n', '3', '.', '0')"
      ]
    },
    {
      "cell_type": "code",
      "execution_count": null,
      "id": "51951937",
      "metadata": {
        "id": "51951937",
        "colab": {
          "base_uri": "https://localhost:8080/"
        },
        "outputId": "003bb927-dd7d-4d08-8562-cfeaa2e7ec5a"
      },
      "outputs": [
        {
          "output_type": "stream",
          "name": "stdout",
          "text": [
            "('p', 'y', 't', 'h', 'o', 'n', ' ', '3', '.', '0')\n"
          ]
        }
      ],
      "source": [
        "str=\"python 3.0\"\n",
        "print(tuple(str))"
      ]
    },
    {
      "cell_type": "markdown",
      "id": "5a1d5d97",
      "metadata": {
        "id": "5a1d5d97"
      },
      "source": [
        "**55-Write a Python program to calculate the average value of the numbers in a given tuple of tuples"
      ]
    },
    {
      "cell_type": "code",
      "execution_count": null,
      "id": "834e7992",
      "metadata": {
        "id": "834e7992",
        "colab": {
          "base_uri": "https://localhost:8080/"
        },
        "outputId": "53ebead9-03c0-453b-8e40-431999d10a3c"
      },
      "outputs": [
        {
          "output_type": "stream",
          "name": "stdout",
          "text": [
            "6.0\n"
          ]
        }
      ],
      "source": [
        "lis=[(1,2,3),(2,3,1),(3,2,1)]\n",
        "sum = 0\n",
        "for sub in lis:\n",
        "    for i in sub:\n",
        "        sum = sum + i\n",
        "res = sum / len(lis)\n",
        "print(res)"
      ]
    },
    {
      "cell_type": "markdown",
      "id": "51edab9c",
      "metadata": {
        "id": "51edab9c"
      },
      "source": [
        "**56-Write a Python program to add member(s) to a set."
      ]
    },
    {
      "cell_type": "code",
      "execution_count": null,
      "id": "2b65df79",
      "metadata": {
        "id": "2b65df79",
        "colab": {
          "base_uri": "https://localhost:8080/"
        },
        "outputId": "7a00e8a1-d163-4403-bef1-d7d5aa82e06c"
      },
      "outputs": [
        {
          "output_type": "stream",
          "name": "stdout",
          "text": [
            "enter number of members4\n",
            "8\n",
            "7\n",
            "6\n",
            "5\n",
            "{1, 2, '7', '5', '6', '8'}\n"
          ]
        }
      ],
      "source": [
        "se={1,2}\n",
        "a=0\n",
        "n=int(input(\"enter number of members\"))\n",
        "for i in range(n) :\n",
        "    a=input()\n",
        "    se.add(a)\n",
        "print(se)\n"
      ]
    },
    {
      "cell_type": "markdown",
      "id": "965590cc",
      "metadata": {
        "id": "965590cc"
      },
      "source": [
        "**57-Write a Python program to remove an item from a set if it is present in the set."
      ]
    },
    {
      "cell_type": "code",
      "execution_count": null,
      "id": "866bab28",
      "metadata": {
        "id": "866bab28",
        "colab": {
          "base_uri": "https://localhost:8080/"
        },
        "outputId": "e38f82b4-b482-41e0-df82-2199f70316a8"
      },
      "outputs": [
        {
          "output_type": "stream",
          "name": "stdout",
          "text": [
            "enter a number5\n",
            "{1, 2, 3, 7}\n"
          ]
        }
      ],
      "source": [
        "se={1,2,5,3,7}\n",
        "n=int(input(\"enter a number\"))\n",
        "if n in se:\n",
        "    se.remove(n)\n",
        "    print(se)\n",
        "else:\n",
        "    print(se)"
      ]
    },
    {
      "cell_type": "markdown",
      "id": "2b7cfed1",
      "metadata": {
        "id": "2b7cfed1"
      },
      "source": [
        "**58-Write a Python program to create an intersection,union,difference and symmetric difference of sets"
      ]
    },
    {
      "cell_type": "code",
      "execution_count": null,
      "id": "7f94b7fe",
      "metadata": {
        "id": "7f94b7fe",
        "colab": {
          "base_uri": "https://localhost:8080/"
        },
        "outputId": "29db5f26-6560-4334-b749-274f492f58ea"
      },
      "outputs": [
        {
          "output_type": "stream",
          "name": "stdout",
          "text": [
            "{1, 3, 5, 7}\n",
            "{1, 2, 3, 4, 5, 7, 8, 9}\n",
            "{2, 4}\n",
            "{2, 4, 8, 9}\n"
          ]
        }
      ],
      "source": [
        "set1={1,2,3,4,5,7}\n",
        "set2={1,3,5,8,9,7}\n",
        "print(set1&set2)\n",
        "print(set1|set2)\n",
        "print(set1-set2)\n",
        "print(set1^set2)"
      ]
    },
    {
      "cell_type": "markdown",
      "id": "b94931e2",
      "metadata": {
        "id": "b94931e2"
      },
      "source": [
        "**59-Write a Python program to find the maximum and minimum values in a set"
      ]
    },
    {
      "cell_type": "code",
      "execution_count": null,
      "id": "203f9600",
      "metadata": {
        "id": "203f9600"
      },
      "outputs": [],
      "source": [
        "set={1,4,1,8,1,7}\n",
        "print(max(set))\n",
        "print(min(set))"
      ]
    },
    {
      "cell_type": "markdown",
      "id": "255fd554",
      "metadata": {
        "id": "255fd554"
      },
      "source": [
        "**60- Write a Python program that finds all pairs of elements in a list whose sum is equal to a given value."
      ]
    },
    {
      "cell_type": "code",
      "execution_count": null,
      "id": "c2d94e1f",
      "metadata": {
        "id": "c2d94e1f",
        "colab": {
          "base_uri": "https://localhost:8080/"
        },
        "outputId": "832eff88-465c-4aa0-9642-cdabd4281a9b"
      },
      "outputs": [
        {
          "output_type": "stream",
          "name": "stdout",
          "text": [
            "[(3, 9), (5, 7)]\n"
          ]
        }
      ],
      "source": [
        "def findPairs(lst, K):\n",
        "    res = []\n",
        "    while lst:\n",
        "        num = lst.pop()\n",
        "        diff = K - num\n",
        "        if diff in lst:\n",
        "            res.append((diff, num))\n",
        "    return res\n",
        "lst = [1, 5, 3, 7, 9]\n",
        "K = 12\n",
        "print(findPairs(lst, K))"
      ]
    }
  ],
  "metadata": {
    "kernelspec": {
      "display_name": "Python 3 (ipykernel)",
      "language": "python",
      "name": "python3"
    },
    "language_info": {
      "codemirror_mode": {
        "name": "ipython",
        "version": 3
      },
      "file_extension": ".py",
      "mimetype": "text/x-python",
      "name": "python",
      "nbconvert_exporter": "python",
      "pygments_lexer": "ipython3",
      "version": "3.9.7"
    },
    "colab": {
      "provenance": []
    }
  },
  "nbformat": 4,
  "nbformat_minor": 5
}